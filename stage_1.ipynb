{
 "cells": [
  {
   "attachments": {},
   "cell_type": "markdown",
   "metadata": {},
   "source": [
    "# Stage 1"
   ]
  },
  {
   "attachments": {},
   "cell_type": "markdown",
   "metadata": {},
   "source": [
    "## Obtain Street Graphs"
   ]
  },
  {
   "attachments": {},
   "cell_type": "markdown",
   "metadata": {},
   "source": [
    "### Walking Graph"
   ]
  },
  {
   "cell_type": "code",
   "execution_count": null,
   "metadata": {},
   "outputs": [],
   "source": [
    "import osmnx\n",
    "import networkx\n",
    "\n",
    "walking_graph: networkx.MultiDiGraph = osmnx.graph_from_place(\n",
    "    [\n",
    "        'Bryan, USA',\n",
    "        'College Station, USA'\n",
    "    ],\n",
    "    network_type='walk'\n",
    ")\n",
    "\n",
    "osmnx.plot_graph(walking_graph)"
   ]
  },
  {
   "attachments": {},
   "cell_type": "markdown",
   "metadata": {},
   "source": [
    "### Driving Graph"
   ]
  },
  {
   "cell_type": "code",
   "execution_count": null,
   "metadata": {},
   "outputs": [],
   "source": [
    "import osmnx\n",
    "import networkx\n",
    "\n",
    "driving_graph: networkx.MultiDiGraph = osmnx.graph_from_place(\n",
    "    [\n",
    "        'Bryan, USA',\n",
    "        'College Station, USA'\n",
    "    ],\n",
    "    network_type='drive'\n",
    ")\n",
    "\n",
    "osmnx.plot_graph(driving_graph)"
   ]
  }
 ],
 "metadata": {
  "kernelspec": {
   "display_name": ".venv",
   "language": "python",
   "name": "python3"
  },
  "language_info": {
   "codemirror_mode": {
    "name": "ipython",
    "version": 3
   },
   "file_extension": ".py",
   "mimetype": "text/x-python",
   "name": "python",
   "nbconvert_exporter": "python",
   "pygments_lexer": "ipython3",
   "version": "3.10.9 (main, Dec 19 2022, 17:35:49) [GCC 12.2.0]"
  },
  "orig_nbformat": 4,
  "vscode": {
   "interpreter": {
    "hash": "6c94442a0b4c62875268de80dc8d5c67fbf9ca07ec96cf952ff130bd4ffc8b8c"
   }
  }
 },
 "nbformat": 4,
 "nbformat_minor": 2
}
